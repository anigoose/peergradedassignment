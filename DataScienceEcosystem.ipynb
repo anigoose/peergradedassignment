{
 "cells": [
  {
   "cell_type": "markdown",
   "id": "9341f707-2393-4c6a-b6db-6a905e79607b",
   "metadata": {},
   "source": [
    "# Data Science Tools and Ecosystem"
   ]
  },
  {
   "cell_type": "markdown",
   "id": "695b55d0-e2cb-4a86-a9bc-614884b23168",
   "metadata": {},
   "source": [
    "***Objectives:***\n",
    "* List popular languages for Data Science.\n",
    "* List popular tools for Data Science.\n",
    "* List popular Cloud Based tools for Data Science."
   ]
  },
  {
   "cell_type": "markdown",
   "id": "66fbd633-37fe-45b7-be08-61e6fcde928c",
   "metadata": {},
   "source": [
    "___In this notebook, Data Science Tools and Ecosystem are summarized.___"
   ]
  },
  {
   "cell_type": "markdown",
   "id": "907508f4-477c-442a-a5a0-e26d3b23bad2",
   "metadata": {},
   "source": [
    "Some of the popular languages that Data Scientists use are:\n",
    "1. Python\n",
    "2. R programming\n",
    "3. SQL\n",
    "4. Scala\n",
    "5. Java\n",
    "6. Julia"
   ]
  },
  {
   "cell_type": "markdown",
   "id": "e4969076-508e-44a9-bea6-050f477e8f10",
   "metadata": {},
   "source": [
    "Some of the commonly used libraries used by Data Scientists include:\n",
    "1. NumPy\n",
    "2. pandas\n",
    "3. matplotlib\n",
    "4. seaborn\n",
    "5. keras\n",
    "6. bigdl"
   ]
  },
  {
   "cell_type": "markdown",
   "id": "cf785b21-2e29-47b8-a4e8-74c2a1d14f5b",
   "metadata": {},
   "source": [
    "|Data Science Tools|\n",
    "|------------------|\n",
    "|Jupyter|\n",
    "|Anaconda|\n",
    "|Google Colab|"
   ]
  },
  {
   "cell_type": "markdown",
   "id": "4f8efef1-ef6d-4e22-8368-4fffa16079e0",
   "metadata": {},
   "source": [
    "### Below are a few examples of evaluating arithmetic expressions in Python\n",
    "* 1+2=3\n",
    "* 2*3=6\n",
    "* 4-2=2\n",
    "* 12÷3=4"
   ]
  },
  {
   "cell_type": "code",
   "execution_count": 2,
   "id": "0830e07d-5cc8-4cad-8838-a720c18f3f3c",
   "metadata": {
    "tags": []
   },
   "outputs": [
    {
     "data": {
      "text/plain": [
       "17"
      ]
     },
     "execution_count": 2,
     "metadata": {},
     "output_type": "execute_result"
    }
   ],
   "source": [
    "# This a simple arithmeticexpression to mutiply then add integers\n",
    "(3*4)+5"
   ]
  },
  {
   "cell_type": "code",
   "execution_count": 4,
   "id": "535002e6-e0cf-48c2-b12c-747eabb43cf8",
   "metadata": {
    "tags": []
   },
   "outputs": [
    {
     "data": {
      "text/plain": [
       "3.3333333333333335"
      ]
     },
     "execution_count": 4,
     "metadata": {},
     "output_type": "execute_result"
    }
   ],
   "source": [
    "# This will convert 200 minutes tohours by diving by 60\n",
    "hours=200/60\n",
    "hours"
   ]
  },
  {
   "cell_type": "markdown",
   "id": "95a3987f-fb3b-4352-9a88-30b8140ed2de",
   "metadata": {},
   "source": [
    "## Author \n",
    "Umamaheswaran V"
   ]
  }
 ],
 "metadata": {
  "kernelspec": {
   "display_name": "Python",
   "language": "python",
   "name": "conda-env-python-py"
  },
  "language_info": {
   "codemirror_mode": {
    "name": "ipython",
    "version": 3
   },
   "file_extension": ".py",
   "mimetype": "text/x-python",
   "name": "python",
   "nbconvert_exporter": "python",
   "pygments_lexer": "ipython3",
   "version": "3.7.12"
  }
 },
 "nbformat": 4,
 "nbformat_minor": 5
}
